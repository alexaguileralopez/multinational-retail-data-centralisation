{
 "cells": [
  {
   "cell_type": "code",
   "execution_count": 9,
   "metadata": {},
   "outputs": [],
   "source": [
    "import data_cleaning\n",
    "import data_extraction\n",
    "import database_utils\n"
   ]
  },
  {
   "attachments": {},
   "cell_type": "markdown",
   "metadata": {},
   "source": [
    "MILESTONE 2, TASK 5: Extract and clean details from each store"
   ]
  },
  {
   "cell_type": "code",
   "execution_count": 12,
   "metadata": {},
   "outputs": [
    {
     "ename": "TypeError",
     "evalue": "DataExtractor.list_number_of_stores() got an unexpected keyword argument 'header_details'",
     "output_type": "error",
     "traceback": [
      "\u001b[0;31m---------------------------------------------------------------------------\u001b[0m",
      "\u001b[0;31mTypeError\u001b[0m                                 Traceback (most recent call last)",
      "Cell \u001b[0;32mIn[12], line 5\u001b[0m\n\u001b[1;32m      2\u001b[0m \u001b[39mimport\u001b[39;00m \u001b[39mdata_cleaning\u001b[39;00m\n\u001b[1;32m      3\u001b[0m \u001b[39mimport\u001b[39;00m \u001b[39mdata_extraction\u001b[39;00m\n\u001b[0;32m----> 5\u001b[0m clean_store_data \u001b[39m=\u001b[39m data_cleaning\u001b[39m.\u001b[39;49mDataCleaning()\u001b[39m.\u001b[39;49mclean_store_data()\n\u001b[1;32m      7\u001b[0m \u001b[39m# store data in database:\u001b[39;00m\n\u001b[1;32m      9\u001b[0m database_utils\u001b[39m.\u001b[39mDatabaseConnector()\u001b[39m.\u001b[39mupload_to_db(dataframe \u001b[39m=\u001b[39m clean_store_data, table_name\u001b[39m=\u001b[39m \u001b[39m'\u001b[39m\u001b[39mdim_store_details\u001b[39m\u001b[39m'\u001b[39m)\n",
      "File \u001b[0;32m~/Desktop/AiCore/multinational-retail-data-centralisation/data_cleaning.py:64\u001b[0m, in \u001b[0;36mDataCleaning.clean_store_data\u001b[0;34m(self)\u001b[0m\n\u001b[1;32m     62\u001b[0m \u001b[39mdef\u001b[39;00m \u001b[39mclean_store_data\u001b[39m(\u001b[39mself\u001b[39m):\n\u001b[0;32m---> 64\u001b[0m     store_data \u001b[39m=\u001b[39m data_extraction\u001b[39m.\u001b[39mDataExtractor()\u001b[39m.\u001b[39mretrieve_stores_data()\n\u001b[1;32m     66\u001b[0m     \u001b[39m# transforming opening date column to datetime object\u001b[39;00m\n\u001b[1;32m     67\u001b[0m     store_data[\u001b[39m'\u001b[39m\u001b[39mopening_date\u001b[39m\u001b[39m'\u001b[39m] \u001b[39m=\u001b[39m pd\u001b[39m.\u001b[39mto_datetime(store_data[\u001b[39m'\u001b[39m\u001b[39mopening_date\u001b[39m\u001b[39m'\u001b[39m], errors\u001b[39m=\u001b[39m \u001b[39m'\u001b[39m\u001b[39mcoerce\u001b[39m\u001b[39m'\u001b[39m, \u001b[39mformat\u001b[39m\u001b[39m=\u001b[39m \u001b[39m'\u001b[39m\u001b[39m%\u001b[39m\u001b[39mY-\u001b[39m\u001b[39m%\u001b[39m\u001b[39mm-\u001b[39m\u001b[39m%d\u001b[39;00m\u001b[39m'\u001b[39m)\n",
      "File \u001b[0;32m~/Desktop/AiCore/multinational-retail-data-centralisation/data_extraction.py:77\u001b[0m, in \u001b[0;36mretrieve_stores_data\u001b[0;34m(self, retrieve_store_url)\u001b[0m\n\u001b[1;32m     75\u001b[0m     store_data \u001b[39m=\u001b[39m requests\u001b[39m.\u001b[39mget(url\u001b[39m.\u001b[39mformat(store_number \u001b[39m=\u001b[39m i), headers\u001b[39m=\u001b[39m header)\u001b[39m.\u001b[39mjson()\n\u001b[1;32m     76\u001b[0m     store_data \u001b[39m=\u001b[39m json_normalize(store_data)\n\u001b[0;32m---> 77\u001b[0m     df \u001b[39m=\u001b[39m pd\u001b[39m.\u001b[39mconcat([df, store_data])\n\u001b[1;32m     79\u001b[0m \u001b[39mreturn\u001b[39;00m df\n",
      "\u001b[0;31mTypeError\u001b[0m: DataExtractor.list_number_of_stores() got an unexpected keyword argument 'header_details'"
     ]
    }
   ],
   "source": [
    "import database_utils\n",
    "import data_cleaning\n",
    "import data_extraction\n",
    "\n",
    "clean_store_data = data_cleaning.DataCleaning().clean_store_data()\n",
    "\n",
    "# store data in database:\n",
    "\n",
    "database_utils.DatabaseConnector().upload_to_db(dataframe = clean_store_data, table_name= 'dim_store_details')\n"
   ]
  },
  {
   "cell_type": "code",
   "execution_count": 11,
   "metadata": {},
   "outputs": [
    {
     "name": "stdout",
     "output_type": "stream",
     "text": [
      "{\"statusCode\": 200, \"number_stores\": 451}\n"
     ]
    },
    {
     "ename": "TypeError",
     "evalue": "DataExtractor.list_number_of_stores() got an unexpected keyword argument 'header_details'",
     "output_type": "error",
     "traceback": [
      "\u001b[0;31m---------------------------------------------------------------------------\u001b[0m",
      "\u001b[0;31mTypeError\u001b[0m                                 Traceback (most recent call last)",
      "Cell \u001b[0;32mIn[11], line 6\u001b[0m\n\u001b[1;32m      3\u001b[0m number_stores \u001b[39m=\u001b[39m data_extraction\u001b[39m.\u001b[39mDataExtractor()\u001b[39m.\u001b[39mlist_number_of_stores()\n\u001b[1;32m      4\u001b[0m \u001b[39mprint\u001b[39m(number_stores)\n\u001b[0;32m----> 6\u001b[0m df \u001b[39m=\u001b[39m data_extraction\u001b[39m.\u001b[39;49mDataExtractor()\u001b[39m.\u001b[39;49mretrieve_stores_data()\n",
      "File \u001b[0;32m~/Desktop/AiCore/multinational-retail-data-centralisation/data_extraction.py:77\u001b[0m, in \u001b[0;36mretrieve_stores_data\u001b[0;34m(self, retrieve_store_url)\u001b[0m\n\u001b[1;32m     75\u001b[0m     store_data \u001b[39m=\u001b[39m requests\u001b[39m.\u001b[39mget(url\u001b[39m.\u001b[39mformat(store_number \u001b[39m=\u001b[39m i), headers\u001b[39m=\u001b[39m header)\u001b[39m.\u001b[39mjson()\n\u001b[1;32m     76\u001b[0m     store_data \u001b[39m=\u001b[39m json_normalize(store_data)\n\u001b[0;32m---> 77\u001b[0m     df \u001b[39m=\u001b[39m pd\u001b[39m.\u001b[39mconcat([df, store_data])\n\u001b[1;32m     79\u001b[0m \u001b[39mreturn\u001b[39;00m df\n",
      "\u001b[0;31mTypeError\u001b[0m: DataExtractor.list_number_of_stores() got an unexpected keyword argument 'header_details'"
     ]
    }
   ],
   "source": [
    "import "
   ]
  }
 ],
 "metadata": {
  "kernelspec": {
   "display_name": "base",
   "language": "python",
   "name": "python3"
  },
  "language_info": {
   "codemirror_mode": {
    "name": "ipython",
    "version": 3
   },
   "file_extension": ".py",
   "mimetype": "text/x-python",
   "name": "python",
   "nbconvert_exporter": "python",
   "pygments_lexer": "ipython3",
   "version": "3.10.8"
  },
  "orig_nbformat": 4
 },
 "nbformat": 4,
 "nbformat_minor": 2
}
