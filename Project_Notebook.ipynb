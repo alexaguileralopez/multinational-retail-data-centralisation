{
 "cells": [
  {
   "cell_type": "code",
   "execution_count": 7,
   "metadata": {},
   "outputs": [],
   "source": [
    "import data_cleaning\n",
    "import data_extraction\n",
    "import database_utils"
   ]
  },
  {
   "attachments": {},
   "cell_type": "markdown",
   "metadata": {},
   "source": [
    "MILESTONE 2, TASK 5: Extract and clean details from each store"
   ]
  },
  {
   "cell_type": "code",
   "execution_count": 3,
   "metadata": {},
   "outputs": [
    {
     "ename": "KeyError",
     "evalue": "'number_stores'",
     "output_type": "error",
     "traceback": [
      "\u001b[0;31m---------------------------------------------------------------------------\u001b[0m",
      "\u001b[0;31mKeyError\u001b[0m                                  Traceback (most recent call last)",
      "Cell \u001b[0;32mIn[3], line 1\u001b[0m\n\u001b[0;32m----> 1\u001b[0m data_cleaning\u001b[39m.\u001b[39;49mDataCleaning()\u001b[39m.\u001b[39;49mclean_store_data()\n",
      "File \u001b[0;32m~/Desktop/AiCore/multinational-retail-data-centralisation/data_cleaning.py:63\u001b[0m, in \u001b[0;36mDataCleaning.clean_store_data\u001b[0;34m(self)\u001b[0m\n\u001b[1;32m     61\u001b[0m \u001b[39mdef\u001b[39;00m \u001b[39mclean_store_data\u001b[39m(\u001b[39mself\u001b[39m):\n\u001b[0;32m---> 63\u001b[0m     store_data \u001b[39m=\u001b[39m data_extraction\u001b[39m.\u001b[39;49mDataExtractor()\u001b[39m.\u001b[39;49mretrieve_stores_data(\u001b[39m\"\u001b[39;49m\u001b[39mhttps://aqj7u5id95.execute-api.eu-west-1.amazonaws.com/prod/store_details/\u001b[39;49m\u001b[39m{store_number}\u001b[39;49;00m\u001b[39m\"\u001b[39;49m)\n\u001b[1;32m     65\u001b[0m     \u001b[39m# transforming opening date column to datetime object\u001b[39;00m\n\u001b[1;32m     66\u001b[0m     store_data[\u001b[39m'\u001b[39m\u001b[39mopening_date\u001b[39m\u001b[39m'\u001b[39m] \u001b[39m=\u001b[39m pd\u001b[39m.\u001b[39mto_datetime(store_data[\u001b[39m'\u001b[39m\u001b[39mopening_date\u001b[39m\u001b[39m'\u001b[39m], errors\u001b[39m=\u001b[39m \u001b[39m'\u001b[39m\u001b[39mcoerce\u001b[39m\u001b[39m'\u001b[39m, \u001b[39mformat\u001b[39m\u001b[39m=\u001b[39m \u001b[39m'\u001b[39m\u001b[39m%\u001b[39m\u001b[39mY-\u001b[39m\u001b[39m%\u001b[39m\u001b[39mm-\u001b[39m\u001b[39m%d\u001b[39;00m\u001b[39m'\u001b[39m)\n",
      "File \u001b[0;32m~/Desktop/AiCore/multinational-retail-data-centralisation/data_extraction.py:70\u001b[0m, in \u001b[0;36mDataExtractor.retrieve_stores_data\u001b[0;34m(self, retrieve_store_url)\u001b[0m\n\u001b[1;32m     66\u001b[0m \u001b[39mwith\u001b[39;00m \u001b[39mopen\u001b[39m(\u001b[39m'\u001b[39m\u001b[39mheader_details.yaml\u001b[39m\u001b[39m'\u001b[39m) \u001b[39mas\u001b[39;00m f:\n\u001b[1;32m     67\u001b[0m     header_details \u001b[39m=\u001b[39m yaml\u001b[39m.\u001b[39msafe_load(f)\n\u001b[0;32m---> 70\u001b[0m number_stores \u001b[39m=\u001b[39m \u001b[39mself\u001b[39;49m\u001b[39m.\u001b[39;49mlist_number_of_stores(\u001b[39m'\u001b[39;49m\u001b[39mhttps://aqj7u5id95.execute-api.eu-west-1.amazonaws.com/prod/number_stores\u001b[39;49m\u001b[39m'\u001b[39;49m, header_details\u001b[39m=\u001b[39;49m header_details)\n\u001b[1;32m     71\u001b[0m \u001b[39mfor\u001b[39;00m i \u001b[39min\u001b[39;00m \u001b[39mrange\u001b[39m(\u001b[39m0\u001b[39m,number_stores):\n\u001b[1;32m     72\u001b[0m     store_data \u001b[39m=\u001b[39m requests\u001b[39m.\u001b[39mget(retrieve_store_url\u001b[39m.\u001b[39mformat(store_number \u001b[39m=\u001b[39m i), headers\u001b[39m=\u001b[39m header_details)\u001b[39m.\u001b[39mjson()\n",
      "File \u001b[0;32m~/Desktop/AiCore/multinational-retail-data-centralisation/data_extraction.py:57\u001b[0m, in \u001b[0;36mDataExtractor.list_number_of_stores\u001b[0;34m(self, number_of_stores_endpoint, header_details)\u001b[0m\n\u001b[1;32m     52\u001b[0m \u001b[39mdef\u001b[39;00m \u001b[39mlist_number_of_stores\u001b[39m(\u001b[39mself\u001b[39m, number_of_stores_endpoint\u001b[39m=\u001b[39m\u001b[39mstr\u001b[39m, header_details\u001b[39m=\u001b[39myaml):\n\u001b[1;32m     54\u001b[0m     number_of_stores \u001b[39m=\u001b[39m requests\u001b[39m.\u001b[39mget(number_of_stores_endpoint, header_details)\u001b[39m.\u001b[39mjson()\n\u001b[0;32m---> 57\u001b[0m     \u001b[39mreturn\u001b[39;00m number_of_stores[\u001b[39m'\u001b[39;49m\u001b[39mnumber_stores\u001b[39;49m\u001b[39m'\u001b[39;49m]\n",
      "\u001b[0;31mKeyError\u001b[0m: 'number_stores'"
     ]
    }
   ],
   "source": [
    "data_cleaning.DataCleaning().clean_store_data()"
   ]
  },
  {
   "cell_type": "code",
   "execution_count": 9,
   "metadata": {},
   "outputs": [
    {
     "ename": "TypeError",
     "evalue": "DataExtractor.extract_from_s3() missing 1 required positional argument: 'product_adress'",
     "output_type": "error",
     "traceback": [
      "\u001b[0;31m---------------------------------------------------------------------------\u001b[0m",
      "\u001b[0;31mTypeError\u001b[0m                                 Traceback (most recent call last)",
      "Cell \u001b[0;32mIn[9], line 1\u001b[0m\n\u001b[0;32m----> 1\u001b[0m data_extraction\u001b[39m.\u001b[39;49mDataExtractor()\u001b[39m.\u001b[39;49mextract_from_s3()\n",
      "\u001b[0;31mTypeError\u001b[0m: DataExtractor.extract_from_s3() missing 1 required positional argument: 'product_adress'"
     ]
    }
   ],
   "source": [
    "data_extraction.DataExtractor().extract_from_s3()"
   ]
  }
 ],
 "metadata": {
  "kernelspec": {
   "display_name": "base",
   "language": "python",
   "name": "python3"
  },
  "language_info": {
   "codemirror_mode": {
    "name": "ipython",
    "version": 3
   },
   "file_extension": ".py",
   "mimetype": "text/x-python",
   "name": "python",
   "nbconvert_exporter": "python",
   "pygments_lexer": "ipython3",
   "version": "3.10.8"
  },
  "orig_nbformat": 4
 },
 "nbformat": 4,
 "nbformat_minor": 2
}
