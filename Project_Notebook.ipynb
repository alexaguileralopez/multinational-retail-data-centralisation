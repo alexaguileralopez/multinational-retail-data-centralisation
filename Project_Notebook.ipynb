{
 "cells": [
  {
   "cell_type": "code",
   "execution_count": 34,
   "metadata": {},
   "outputs": [],
   "source": [
    "import data_cleaning\n",
    "import data_extraction\n",
    "import database_utils\n"
   ]
  },
  {
   "attachments": {},
   "cell_type": "markdown",
   "metadata": {},
   "source": [
    "MILESTONE 2, TASK 5: Extract and clean details from each store"
   ]
  },
  {
   "cell_type": "code",
   "execution_count": 36,
   "metadata": {},
   "outputs": [
    {
     "ename": "KeyError",
     "evalue": "'number_stores'",
     "output_type": "error",
     "traceback": [
      "\u001b[0;31m---------------------------------------------------------------------------\u001b[0m",
      "\u001b[0;31mKeyError\u001b[0m                                  Traceback (most recent call last)",
      "Cell \u001b[0;32mIn[36], line 5\u001b[0m\n\u001b[1;32m      3\u001b[0m \u001b[39mwith\u001b[39;00m \u001b[39mopen\u001b[39m(\u001b[39m'\u001b[39m\u001b[39mheader_details.yaml\u001b[39m\u001b[39m'\u001b[39m) \u001b[39mas\u001b[39;00m f:\n\u001b[1;32m      4\u001b[0m     header_details \u001b[39m=\u001b[39m yaml\u001b[39m.\u001b[39msafe_load(f)\n\u001b[0;32m----> 5\u001b[0m number_stores \u001b[39m=\u001b[39m data_extraction\u001b[39m.\u001b[39;49mDataExtractor()\u001b[39m.\u001b[39;49mlist_number_of_stores(url, header_details)\n",
      "File \u001b[0;32m~/Desktop/AiCore/multinational-retail-data-centralisation/data_extraction.py:57\u001b[0m, in \u001b[0;36mDataExtractor.list_number_of_stores\u001b[0;34m(self, number_of_stores_endpoint, header_details)\u001b[0m\n\u001b[1;32m     52\u001b[0m \u001b[39mdef\u001b[39;00m \u001b[39mlist_number_of_stores\u001b[39m(\u001b[39mself\u001b[39m, number_of_stores_endpoint\u001b[39m=\u001b[39m\u001b[39mstr\u001b[39m, header_details\u001b[39m=\u001b[39myaml):\n\u001b[1;32m     54\u001b[0m     number_of_stores \u001b[39m=\u001b[39m requests\u001b[39m.\u001b[39mget(number_of_stores_endpoint, header_details)\u001b[39m.\u001b[39mjson()\n\u001b[0;32m---> 57\u001b[0m     \u001b[39mreturn\u001b[39;00m number_of_stores[\u001b[39m'\u001b[39;49m\u001b[39mnumber_stores\u001b[39;49m\u001b[39m'\u001b[39;49m]\n",
      "\u001b[0;31mKeyError\u001b[0m: 'number_stores'"
     ]
    }
   ],
   "source": [
    "import yaml\n",
    "\n",
    "with open('header_details.yaml') as f:\n",
    "    header_details = yaml.safe_load(f)\n",
    "number = data_extraction.DataExtractor().list_number_of_stores(url, header_details)"
   ]
  }
 ],
 "metadata": {
  "kernelspec": {
   "display_name": "base",
   "language": "python",
   "name": "python3"
  },
  "language_info": {
   "codemirror_mode": {
    "name": "ipython",
    "version": 3
   },
   "file_extension": ".py",
   "mimetype": "text/x-python",
   "name": "python",
   "nbconvert_exporter": "python",
   "pygments_lexer": "ipython3",
   "version": "3.10.8"
  },
  "orig_nbformat": 4
 },
 "nbformat": 4,
 "nbformat_minor": 2
}
